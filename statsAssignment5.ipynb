{
 "cells": [
  {
   "cell_type": "code",
   "execution_count": 1,
   "id": "ea9df584-bfba-4872-acb9-264defe54562",
   "metadata": {},
   "outputs": [
    {
     "name": "stdout",
     "output_type": "stream",
     "text": [
      "95% Confidence Interval:\n",
      "Lower Bound: 49.02001800772997\n",
      "Upper Bound: 50.97998199227003\n"
     ]
    }
   ],
   "source": [
    "from scipy import stats\n",
    "\n",
    "# Sample mean\n",
    "mean = 50\n",
    "\n",
    "# Standard deviation\n",
    "std_dev = 5\n",
    "\n",
    "# Sample size (assuming it's large enough for the normal approximation)\n",
    "sample_size = 100\n",
    "\n",
    "# Calculate the standard error of the mean\n",
    "standard_error = std_dev / (sample_size ** 0.5)\n",
    "\n",
    "# Calculate the margin of error (using the critical value for a 95% confidence interval)\n",
    "margin_of_error = stats.norm.ppf(0.975) * standard_error\n",
    "\n",
    "# Calculate the lower and upper bounds of the confidence interval\n",
    "lower_bound = mean - margin_of_error\n",
    "upper_bound = mean + margin_of_error\n",
    "\n",
    "print(\"95% Confidence Interval:\")\n",
    "print(\"Lower Bound:\", lower_bound)\n",
    "print(\"Upper Bound:\", upper_bound)\n"
   ]
  },
  {
   "cell_type": "code",
   "execution_count": null,
   "id": "6a7661c1-64a5-43ea-88a3-a48fc99633c3",
   "metadata": {},
   "outputs": [],
   "source": []
  },
  {
   "cell_type": "code",
   "execution_count": 1,
   "id": "f4a14386-7fe1-41b6-a70c-adeb95cfc2ed",
   "metadata": {},
   "outputs": [
    {
     "name": "stdout",
     "output_type": "stream",
     "text": [
      "Chi-square statistic: 2.8636363636363638\n",
      "Degrees of freedom: 5\n",
      "Critical chi-square value: 11.070497693516351\n",
      "Fail to reject the null hypothesis. The observed distribution matches the expected distribution.\n"
     ]
    }
   ],
   "source": [
    "import numpy as np\n",
    "from scipy.stats import chi2\n",
    "\n",
    "# Observed frequencies (counts of each color)\n",
    "observed_counts = [20, 25, 18, 10, 15, 22]\n",
    "\n",
    "# Expected distribution\n",
    "expected_distribution = [0.20, 0.20, 0.20, 0.10, 0.10, 0.20]\n",
    "total_observed = sum(observed_counts)\n",
    "\n",
    "# Calculate expected frequencies based on expected distribution\n",
    "expected_counts = [total_observed * p for p in expected_distribution]\n",
    "\n",
    "# Calculate chi-square statistic\n",
    "chi_square = sum((observed - expected) ** 2 / expected for observed, expected in zip(observed_counts, expected_counts))\n",
    "\n",
    "# Degrees of freedom\n",
    "df = len(observed_counts) - 1\n",
    "\n",
    "# Critical chi-square value\n",
    "alpha = 0.05\n",
    "critical_chi_square = chi2.ppf(1 - alpha, df)\n",
    "\n",
    "# Output results\n",
    "print(\"Chi-square statistic:\", chi_square)\n",
    "print(\"Degrees of freedom:\", df)\n",
    "print(\"Critical chi-square value:\", critical_chi_square)\n",
    "\n",
    "# Compare chi-square statistic to critical chi-square value\n",
    "if chi_square > critical_chi_square:\n",
    "    print(\"Reject the null hypothesis. The observed distribution differs significantly from the expected distribution.\")\n",
    "else:\n",
    "    print(\"Fail to reject the null hypothesis. The observed distribution matches the expected distribution.\")\n"
   ]
  },
  {
   "cell_type": "code",
   "execution_count": null,
   "id": "320719c8-28d8-4148-b8ae-50a07d42be52",
   "metadata": {},
   "outputs": [],
   "source": []
  },
  {
   "cell_type": "code",
   "execution_count": 2,
   "id": "44e7777f-105a-4382-98c2-e362f53ca097",
   "metadata": {},
   "outputs": [
    {
     "name": "stdout",
     "output_type": "stream",
     "text": [
      "Chi-square statistic: 5.833333333333334\n",
      "p-value: 0.05411376622282158\n",
      "Degrees of freedom: 2\n",
      "Expected frequencies:\n",
      "[[15. 20.]\n",
      " [15. 20.]\n",
      " [15. 20.]]\n",
      "Fail to reject the null hypothesis. There is no evidence to suggest that the variables are dependent.\n"
     ]
    }
   ],
   "source": [
    "from scipy.stats import chi2_contingency\n",
    "\n",
    "# Given data\n",
    "observed_data = [[20, 15],\n",
    "                 [10, 25],\n",
    "                 [15, 20]]\n",
    "\n",
    "# Perform chi-square test\n",
    "chi2_stat, p_val, dof, expected = chi2_contingency(observed_data)\n",
    "\n",
    "# Output results\n",
    "print(\"Chi-square statistic:\", chi2_stat)\n",
    "print(\"p-value:\", p_val)\n",
    "print(\"Degrees of freedom:\", dof)\n",
    "print(\"Expected frequencies:\")\n",
    "print(expected)\n",
    "\n",
    "# Interpret the results\n",
    "alpha = 0.05\n",
    "if p_val < alpha:\n",
    "    print(\"Reject the null hypothesis. There is evidence to suggest that the variables are dependent.\")\n",
    "else:\n",
    "    print(\"Fail to reject the null hypothesis. There is no evidence to suggest that the variables are dependent.\")\n"
   ]
  },
  {
   "cell_type": "code",
   "execution_count": null,
   "id": "ce8835b7-be60-4ceb-af3c-2d6d686364b6",
   "metadata": {},
   "outputs": [],
   "source": []
  },
  {
   "cell_type": "code",
   "execution_count": 3,
   "id": "701ceed9-26f6-44ff-af15-fc59f023f1c5",
   "metadata": {},
   "outputs": [
    {
     "name": "stdout",
     "output_type": "stream",
     "text": [
      "95% Confidence Interval for the True Proportion of Smokers in the Population:\n",
      "Lower Bound: 0.09151638887130707\n",
      "Upper Bound: 0.1484836111286929\n"
     ]
    }
   ],
   "source": [
    "import numpy as np\n",
    "from scipy.stats import norm\n",
    "\n",
    "# Given data\n",
    "total_population = 500\n",
    "smokers = 60\n",
    "\n",
    "# Calculate sample proportion\n",
    "sample_proportion = smokers / total_population\n",
    "\n",
    "# Calculate standard error\n",
    "standard_error = np.sqrt((sample_proportion * (1 - sample_proportion)) / total_population)\n",
    "\n",
    "# Set confidence level\n",
    "confidence_level = 0.95\n",
    "\n",
    "# Calculate critical value (z-score) for the confidence level\n",
    "z_score = norm.ppf((1 + confidence_level) / 2)\n",
    "\n",
    "# Calculate margin of error\n",
    "margin_of_error = z_score * standard_error\n",
    "\n",
    "# Calculate lower and upper bounds of the confidence interval\n",
    "lower_bound = sample_proportion - margin_of_error\n",
    "upper_bound = sample_proportion + margin_of_error\n",
    "\n",
    "# Output results\n",
    "print(\"95% Confidence Interval for the True Proportion of Smokers in the Population:\")\n",
    "print(\"Lower Bound:\", lower_bound)\n",
    "print(\"Upper Bound:\", upper_bound)\n"
   ]
  },
  {
   "cell_type": "code",
   "execution_count": null,
   "id": "e5453f61-ca0e-4663-97b3-d2aa218904a6",
   "metadata": {},
   "outputs": [],
   "source": []
  },
  {
   "cell_type": "code",
   "execution_count": 4,
   "id": "4e623f62-29b8-49e0-af15-ceafdc9359e9",
   "metadata": {},
   "outputs": [
    {
     "name": "stdout",
     "output_type": "stream",
     "text": [
      "90% Confidence Interval for the Sample Mean:\n",
      "Lower Bound: 55.261756476582335\n",
      "Upper Bound: 94.73824352341767\n"
     ]
    }
   ],
   "source": [
    "import numpy as np\n",
    "from scipy.stats import norm\n",
    "\n",
    "# Given data\n",
    "sample_mean = 75\n",
    "sample_std_dev = 12\n",
    "sample_size = 1  # for a single sample\n",
    "\n",
    "# Set confidence level\n",
    "confidence_level = 0.90\n",
    "\n",
    "# Calculate standard error\n",
    "standard_error = sample_std_dev / np.sqrt(sample_size)\n",
    "\n",
    "# Calculate critical value (z-score) for the confidence level\n",
    "z_score = norm.ppf((1 + confidence_level) / 2)\n",
    "\n",
    "# Calculate margin of error\n",
    "margin_of_error = z_score * standard_error\n",
    "\n",
    "# Calculate lower and upper bounds of the confidence interval\n",
    "lower_bound = sample_mean - margin_of_error\n",
    "upper_bound = sample_mean + margin_of_error\n",
    "\n",
    "# Output results\n",
    "print(\"90% Confidence Interval for the Sample Mean:\")\n",
    "print(\"Lower Bound:\", lower_bound)\n",
    "print(\"Upper Bound:\", upper_bound)\n"
   ]
  },
  {
   "cell_type": "code",
   "execution_count": null,
   "id": "b247ed5e-4dd6-4d97-a5f7-eded3f8e5fc3",
   "metadata": {},
   "outputs": [],
   "source": []
  },
  {
   "cell_type": "code",
   "execution_count": 5,
   "id": "a056edc2-6ee2-4dcf-8576-2f10a8ceba75",
   "metadata": {},
   "outputs": [
    {
     "data": {
      "image/png": "[encoded data removed]",
      "text/plain": [
       "<Figure size 800x600 with 1 Axes>"
      ]
     },
     "metadata": {},
     "output_type": "display_data"
    }
   ],
   "source": [
    "import numpy as np\n",
    "import matplotlib.pyplot as plt\n",
    "from scipy.stats import chi2\n",
    "\n",
    "# Define the range of chi-square values\n",
    "x = np.linspace(0, 30, 1000)\n",
    "\n",
    "# Chi-square distribution with 10 degrees of freedom\n",
    "df = 10\n",
    "y = chi2.pdf(x, df)\n",
    "\n",
    "# Plot the chi-square distribution\n",
    "plt.figure(figsize=(8, 6))\n",
    "plt.plot(x, y, 'b-', label='Chi-square distribution (df=10)')\n",
    "\n",
    "# Shade the area corresponding to chi-square statistic of 15\n",
    "mask = x >= 15\n",
    "plt.fill_between(x[mask], y[mask], color='red', alpha=0.5, label='Chi-square statistic of 15')\n",
    "\n",
    "# Label the axes\n",
    "plt.xlabel('Chi-square Value')\n",
    "plt.ylabel('Probability Density')\n",
    "plt.title('Chi-square Distribution with 10 Degrees of Freedom')\n",
    "plt.legend()\n",
    "plt.grid(True)\n",
    "\n",
    "# Show the plot\n",
    "plt.show()\n"
   ]
  },
  {
   "cell_type": "code",
   "execution_count": null,
   "id": "b48c769e-97f1-4ff4-abac-f672867836e1",
   "metadata": {},
   "outputs": [],
   "source": []
  },
  {
   "cell_type": "code",
   "execution_count": 6,
   "id": "acce2588-e727-4b28-848b-21c725659a0b",
   "metadata": {},
   "outputs": [
    {
     "name": "stdout",
     "output_type": "stream",
     "text": [
      "99% Confidence Interval for the True Proportion of People Who Prefer Coke:\n",
      "Lower Bound: 0.4793051576779699\n",
      "Upper Bound: 0.5606948423220302\n"
     ]
    }
   ],
   "source": [
    "import numpy as np\n",
    "from scipy.stats import norm\n",
    "\n",
    "# Given data\n",
    "sample_size = 1000\n",
    "preferred_coke = 520\n",
    "\n",
    "# Calculate sample proportion\n",
    "sample_proportion = preferred_coke / sample_size\n",
    "\n",
    "# Calculate standard error\n",
    "standard_error = np.sqrt((sample_proportion * (1 - sample_proportion)) / sample_size)\n",
    "\n",
    "# Set confidence level\n",
    "confidence_level = 0.99\n",
    "\n",
    "# Calculate critical value (z-score) for the confidence level\n",
    "z_score = norm.ppf((1 + confidence_level) / 2)\n",
    "\n",
    "# Calculate margin of error\n",
    "margin_of_error = z_score * standard_error\n",
    "\n",
    "# Calculate lower and upper bounds of the confidence interval\n",
    "lower_bound = sample_proportion - margin_of_error\n",
    "upper_bound = sample_proportion + margin_of_error\n",
    "\n",
    "# Output results\n",
    "print(\"99% Confidence Interval for the True Proportion of People Who Prefer Coke:\")\n",
    "print(\"Lower Bound:\", lower_bound)\n",
    "print(\"Upper Bound:\", upper_bound)\n"
   ]
  },
  {
   "cell_type": "code",
   "execution_count": null,
   "id": "5e26d628-f445-4a60-b8aa-521b41351f96",
   "metadata": {},
   "outputs": [],
   "source": []
  },
  {
   "cell_type": "code",
   "execution_count": 7,
   "id": "99590970-d021-4072-b8de-7d6d4005285c",
   "metadata": {},
   "outputs": [
    {
     "name": "stdout",
     "output_type": "stream",
     "text": [
      "Chi-square statistic: 0.5\n",
      "Degrees of freedom: 1\n",
      "Critical chi-square value: 3.841458820694124\n",
      "Fail to reject the null hypothesis. The observed frequencies match the expected frequencies of a fair coin.\n"
     ]
    }
   ],
   "source": [
    "from scipy.stats import chi2\n",
    "\n",
    "# Given data\n",
    "total_flips = 100\n",
    "observed_tails = 45\n",
    "expected_tails = total_flips / 2  # Expected number of tails for a fair coin\n",
    "\n",
    "# Calculate chi-square statistic\n",
    "chi_square = ((observed_tails - expected_tails) ** 2) / expected_tails\n",
    "\n",
    "# Degrees of freedom\n",
    "df = 1  # Two categories: heads and tails\n",
    "\n",
    "# Significance level\n",
    "alpha = 0.05\n",
    "\n",
    "# Critical chi-square value\n",
    "critical_chi_square = chi2.ppf(1 - alpha, df)\n",
    "\n",
    "# Output results\n",
    "print(\"Chi-square statistic:\", chi_square)\n",
    "print(\"Degrees of freedom:\", df)\n",
    "print(\"Critical chi-square value:\", critical_chi_square)\n",
    "\n",
    "# Compare chi-square statistic to critical chi-square value\n",
    "if chi_square > critical_chi_square:\n",
    "    print(\"Reject the null hypothesis. The observed frequencies do not match the expected frequencies of a fair coin.\")\n",
    "else:\n",
    "    print(\"Fail to reject the null hypothesis. The observed frequencies match the expected frequencies of a fair coin.\")\n"
   ]
  },
  {
   "cell_type": "code",
   "execution_count": null,
   "id": "34ee72f0-a1a5-49e1-a1d5-445867660554",
   "metadata": {},
   "outputs": [],
   "source": []
  },
  {
   "cell_type": "code",
   "execution_count": 8,
   "id": "3ddb460b-aee8-41e4-adfd-6297b428b748",
   "metadata": {},
   "outputs": [
    {
     "name": "stdout",
     "output_type": "stream",
     "text": [
      "Chi-square statistic: 12.057347670250895\n",
      "Degrees of freedom: 1\n",
      "p-value: 0.0005158863863703744\n",
      "Reject the null hypothesis. There is a significant association between smoking status and lung cancer diagnosis.\n"
     ]
    }
   ],
   "source": [
    "from scipy.stats import chi2_contingency\n",
    "\n",
    "# Given data\n",
    "observed_data = [[60, 140],\n",
    "                 [30, 170]]\n",
    "\n",
    "# Perform chi-square test for independence\n",
    "chi2_stat, p_val, dof, expected = chi2_contingency(observed_data)\n",
    "\n",
    "# Output results\n",
    "print(\"Chi-square statistic:\", chi2_stat)\n",
    "print(\"Degrees of freedom:\", dof)\n",
    "print(\"p-value:\", p_val)\n",
    "\n",
    "# Set significance level\n",
    "alpha = 0.05\n",
    "\n",
    "# Compare p-value to significance level\n",
    "if p_val < alpha:\n",
    "    print(\"Reject the null hypothesis. There is a significant association between smoking status and lung cancer diagnosis.\")\n",
    "else:\n",
    "    print(\"Fail to reject the null hypothesis. There is no significant association between smoking status and lung cancer diagnosis.\")\n"
   ]
  },
  {
   "cell_type": "code",
   "execution_count": null,
   "id": "d2da170e-0ed4-4caf-a0e9-e8cf7c00a2de",
   "metadata": {},
   "outputs": [],
   "source": []
  },
  {
   "cell_type": "code",
   "execution_count": null,
   "id": "3a03d515-2ee3-4765-9bad-be5554ee735f",
   "metadata": {},
   "outputs": [],
   "source": [
    "from scipy.stats import chi2_contingency\n",
    "\n",
    "# Given data\n",
    "observed_data = [[200, 150, 150],\n",
    "                 [225, 175, 100]]\n",
    "\n",
    "# Perform chi-square test for independence\n",
    "chi2_stat, p_val, dof, expected = chi2_contingency(observed_data)\n",
    "\n",
    "# Output results\n",
    "print(\"Chi-square statistic:\", chi2_stat)\n",
    "print(\"Degrees of freedom:\", dof)\n",
    "print(\"p-value:\", p_val)\n",
    "\n",
    "# Set significance level\n",
    "alpha = 0.01\n",
    "\n",
    "# Compare p-value to significance level\n",
    "if p_val < alpha:\n",
    "    print(\"Reject the null hypothesis. There is a significant association between chocolate preference and country of origin.\")\n",
    "else:\n",
    "    print(\"Fail to reject the null hypothesis. There is no significant association between chocolate preference and country of origin.\")\n"
   ]
  }
 ],
 "metadata": {
  "kernelspec": {
   "display_name": "Python 3 (ipykernel)",
   "language": "python",
   "name": "python3"
  },
  "language_info": {
   "codemirror_mode": {
    "name": "ipython",
    "version": 3
   },
   "file_extension": ".py",
   "mimetype": "text/x-python",
   "name": "python",
   "nbconvert_exporter": "python",
   "pygments_lexer": "ipython3",
   "version": "3.10.8"
  }
 },
 "nbformat": 4,
 "nbformat_minor": 5
}
